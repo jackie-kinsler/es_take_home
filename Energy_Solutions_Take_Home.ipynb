{
 "cells": [
  {
   "cell_type": "code",
   "execution_count": 3,
   "id": "6e2fdb6e",
   "metadata": {},
   "outputs": [],
   "source": [
    "# Everything you might want to import... Remove what you don't use! \n",
    "# import calendar\n",
    "# import datetime as dt \n",
    "# from dotenv import dotenv_values \n",
    "# import json\n",
    "import matplotlib.pyplot as plt\n",
    "%matplotlib inline\n",
    "import seaborn as sns\n",
    "import numpy as np \n",
    "# import os \n",
    "import pandas as pd\n",
    "# import requests\n",
    "# from simpletsmodel import *\n",
    "# from sklearn.linear_model import LinearRegression\n",
    "# from sklearn.preprocessing import PolynomialFeatures\n",
    "# from statsmodels.tsa.seasonal import seasonal_decompose\n",
    "# import statsmodels.api as sm\n",
    "# import statsmodels.formula.api as smf\n",
    "# from utils import *\n",
    "from sklearn.model_selection import train_test_split\n",
    "from sklearn import linear_model\n",
    "from sklearn.linear_model import LogisticRegression\n",
    "from sklearn.ensemble import RandomForestClassifier\n",
    "from sklearn.model_selection import train_test_split\n",
    "from sklearn.preprocessing import scale\n",
    "from sklearn.preprocessing import StandardScaler\n",
    "from sklearn.decomposition import PCA\n",
    "from sklearn.metrics import confusion_matrix, accuracy_score"
   ]
  },
  {
   "cell_type": "markdown",
   "id": "871f5688",
   "metadata": {},
   "source": [
    "A good [resource](https://towardsdatascience.com/how-to-crush-your-data-take-home-interview-a0b9f7c97d6). \n",
    "\n",
    "When you're done, create a brief presentation: \n",
    "- Introduce problem\n",
    "- Overview of process \n",
    "- Highlight key results \n",
    "- Recommendations / Conclusions / Future Work "
   ]
  },
  {
   "cell_type": "markdown",
   "id": "876a5ac2",
   "metadata": {},
   "source": [
    "# Data Analysis Skeleton (TITLE)\n",
    "\n",
    "This project is broken into 6 steps: \n",
    "1. [Problem Definition](#problem_definition)\n",
    "2. [Gathering Data / Information](#get_data)\n",
    "3. [Data Cleaning / Imputation](#clean)\n",
    "4. [Exploratory Analysis](#explore)\n",
    "5. [Model Fitting](#fit)\n",
    "6. [Interpret Results](#interpret)"
   ]
  },
  {
   "cell_type": "markdown",
   "id": "0a080a5c",
   "metadata": {},
   "source": [
    "# 1. Problem definition <a id='problem_definition'></a>"
   ]
  },
  {
   "cell_type": "markdown",
   "id": "39c232c6",
   "metadata": {},
   "source": [
    "# 2. Gathering Data / Information <a id='get_data'></a>"
   ]
  },
  {
   "cell_type": "code",
   "execution_count": null,
   "id": "5becd395",
   "metadata": {},
   "outputs": [],
   "source": [
    "pd.read_csv('/path', sep=\",\")\n",
    "pd.read_json('/path')"
   ]
  },
  {
   "cell_type": "markdown",
   "id": "f49a9438",
   "metadata": {},
   "source": [
    "Connecting to SQL databases in Python: \n",
    "\n",
    "https://medium.com/@devartimahakalkar/connecting-sql-datasets-with-pandas-105f8eb68f1a\n",
    "\n",
    "(Also saved to Desktop)"
   ]
  },
  {
   "cell_type": "code",
   "execution_count": null,
   "id": "eb0d3563",
   "metadata": {},
   "outputs": [],
   "source": [
    "import sqlalchemy as sal\n",
    "from sqlalchemy import create_engine\n",
    "db_name = \"stores.db\"\n",
    "engine = sal.create_engine(\"sqlite:///%s\" % db_name)\n",
    "orders = pd.read_sql_query(\"\"\"SELECT orderNumber, requiredDate\n",
    "                          FROM orders\n",
    "                          WHERE customerNumber > 300\n",
    "                       \"\"\", engine)\n",
    "\n",
    "ca_employees = pd.read_sql_query(\"\"\"SELECT firstName, lastName, state\n",
    "                                      FROM employees\n",
    "                                      JOIN offices\n",
    "                                        ON employees.officeCode = offices.officeCode\n",
    "                                     WHERE country = 'USA' AND state = 'CA'\n",
    "                                   \"\"\", engine)"
   ]
  },
  {
   "cell_type": "markdown",
   "id": "2633b7b4",
   "metadata": {},
   "source": [
    "quick preview of the data: \n",
    "- `df.head()`\n",
    "- `df.shape` #dataset composed of X rows and X columns\n",
    "- `df.info()` #find data types and if there are any nulls\n",
    "- `df.describe()` #get various summary statistics   \n",
    "    \"From the above descriptive statistics...\"\n",
    "- `df.column.unique()` #find if variable is discrete and categorical\n",
    "- `df.column.value_counts()` #shows how many of each variable there is \n"
   ]
  },
  {
   "cell_type": "markdown",
   "id": "9b52d2b5",
   "metadata": {},
   "source": [
    "Merging data together: \n",
    "- `left.merge(right, how='inner', left_on='lkey', right_on='rkey')`\n",
    "\n",
    "Creating column based on condition: \n",
    "- np.where(condition, value if condition is true, value if condition is false)\n",
    "- `df['hasimage'] = np.where(df['photos']!= '[]', True, False)`\n",
    "\n",
    "Merge reference [here](https://documentation.mindsphere.io/resources/html/predictive-learning/en-US/Images/Joins_Diagram.png). "
   ]
  },
  {
   "cell_type": "markdown",
   "id": "c1310e68",
   "metadata": {},
   "source": [
    "# 3. Data Cleaning / Imputation <a id='clean'></a>\n"
   ]
  },
  {
   "cell_type": "markdown",
   "id": "db24e678",
   "metadata": {},
   "source": [
    "**Data cleaning** \n",
    "Check for:\n",
    "- Duplicates: \n",
    "    - `duplicateRows = df[df.duplicated()]`\n",
    "    - `df.drop_duplicates()`\n",
    "    - `boolean = df.duplicated().any()`\n",
    "    - `boolean = df.duplicated(subset=['Student','Date']).any()`\n",
    "- Data types `df.info()`  \n",
    "  `df[\"column\"] = pd.to_numeric(df[\"column\"])`  \n",
    "  `df[\"column\"] = pd.to_datetime(df[\"column\"])`  \n",
    "  `df[\"column\"] = df[\"column\"].astype(\"string\")`  \n",
    "\n",
    "- Make timezone aware `Series.dt.tz_localize()`\n",
    "- Meaningful column names \n",
    "- Outliers \n",
    "\n",
    "```\n",
    "df[['Col_1','Col_1']].plot(subplots=True)\n",
    "\n",
    "plt.tight_layout()\n",
    "plt.show()\n",
    "```\n",
    "- Filter the outliers using expressions: \n",
    "  `df.loc[df['Col_1'] == 2]`\n",
    "- Drop by index value: `df.drop([0, 1], inplace=True)` <--0,1 are index values \n",
    "- Drop by condition:  \n",
    "```\n",
    "indexAge = df[ (df['Age'] >= 20) & (df['Age'] <= 25) ].index\n",
    "df.drop(indexAge , inplace=True)\n",
    "```\n",
    "- Drop unneeded columns `df.drop(columns=['B', 'C'], inplace=True)`"
   ]
  },
  {
   "cell_type": "markdown",
   "id": "1d2c6433",
   "metadata": {},
   "source": [
    "Plotting all the columns (box and histogram): \n",
    "\n",
    "Docs for plot: https://pandas.pydata.org/docs/reference/api/pandas.DataFrame.plot.html"
   ]
  },
  {
   "cell_type": "code",
   "execution_count": null,
   "id": "f0fb1546",
   "metadata": {},
   "outputs": [],
   "source": [
    "# FOR WHEN Y-AXIS HAS NARROW RANGE\n",
    "sns.boxplot(data=wine)"
   ]
  },
  {
   "cell_type": "code",
   "execution_count": null,
   "id": "48dc9a61",
   "metadata": {},
   "outputs": [],
   "source": [
    "# FOR WHEN Y-AXIS HAS DIVERSE RANGE OVER COLUMNS\n",
    "# Create individual box plot for every column...\n",
    "wine.plot(\n",
    "    kind='box', \n",
    "    subplots=True, \n",
    "    layout=(2,6),\n",
    "    sharey=False, \n",
    "    figsize=(15, 6),\n",
    ")\n",
    "\n",
    "# increase spacing between subplots\n",
    "plt.subplots_adjust(wspace=0.5) \n",
    "plt.show()"
   ]
  },
  {
   "cell_type": "code",
   "execution_count": null,
   "id": "82fe4503",
   "metadata": {},
   "outputs": [],
   "source": [
    "# Create histogram for every column \n",
    "fig, axis = plt.subplots(6,2,figsize=(8,10))\n",
    "wine.hist(ax=axis, bins=20)\n",
    "fig.tight_layout()\n",
    "plt.show()"
   ]
  },
  {
   "cell_type": "markdown",
   "id": "e2fb6396",
   "metadata": {},
   "source": [
    "**Data imputation steps**"
   ]
  },
  {
   "cell_type": "markdown",
   "id": "75a05b91",
   "metadata": {},
   "source": [
    "Data imputation steps: \n",
    "- Check for nulls  \n",
    "   use `df.info()` to see how many nulls  \n",
    "   drop na: \n",
    "   - `df.dropna(inplace=True)`  \n",
    "   fill_na:\n",
    "   - `values = {\"A\": 0, \"B\": 1, \"C\": 2, \"D\": 3}`\n",
    "   - `df.fillna(value=values)`\n",
    "   - Fill with median: `test_df['Fare'].fillna(test_df['Fare'].dropna().median(), inplace=True)`\n",
    "- Check for missing data \n",
    "- Impute if possible / necessary "
   ]
  },
  {
   "cell_type": "markdown",
   "id": "111572bc",
   "metadata": {},
   "source": [
    "# 4. Exploratory Analysis <a id='explore'></a>"
   ]
  },
  {
   "cell_type": "markdown",
   "id": "a6eac2f4",
   "metadata": {},
   "source": [
    "Test train split:   \n",
    "`labels = np.array(data['Outcome'])`  \n",
    "`train, test, train_outcome, test_outcome = train_test_split(dataFrame, labels, test_size = 0.25, random_state = 42)`\n",
    "\n",
    "If you just want to lop the end off, set `shuffle=False` and get rid of `random_state`"
   ]
  },
  {
   "cell_type": "markdown",
   "id": "c8af2f4b",
   "metadata": {},
   "source": [
    "Plot the data: \n",
    "- Identify which columns are categorical vs numerical \n",
    "- Identify any trends / patterns \n",
    "- Is seasonality important? \n",
    "- Are there outliers that need explaining? \n",
    "- Is there evidence of a business cycle? "
   ]
  },
  {
   "cell_type": "markdown",
   "id": "34a3fd27",
   "metadata": {},
   "source": [
    "Plot all of the distributions and scatters!  \n",
    "`sns.pairplot(df,hue='Gender')`"
   ]
  },
  {
   "cell_type": "markdown",
   "id": "c89ad880",
   "metadata": {},
   "source": [
    "Quick correlation matrix. \n",
    "- `df.corr()`\n",
    "- `sns.heatmp(df.corr(), cmap='YlGnBu',annot=True)`\n",
    "- If two variables are highly correlated, it may make sense to remove one from the model before performing a linear regression. \n",
    "\n",
    "box plot\n",
    "- `df.boxplot(column=['Col1', 'Col2', 'Col3'])`\n",
    "- show the distribution of quantative data \n",
    "- the box shows the quartiles of the dataset, while the whiskers extend to show the rest of the distribution "
   ]
  },
  {
   "cell_type": "markdown",
   "id": "02cf316e",
   "metadata": {},
   "source": [
    "box plot of feature vs label \n",
    "sns.boxplot('quality', 'citric acid', data = data)"
   ]
  },
  {
   "cell_type": "code",
   "execution_count": null,
   "id": "a019bc95",
   "metadata": {},
   "outputs": [],
   "source": [
    "#Quality correlation matrix\n",
    "k = 12 #number of variables for heatmap\n",
    "cols = df.corr().nlargest(k, 'quality')['quality'].index\n",
    "cm = df[cols].corr()\n",
    "plt.figure(figsize=(10,6))\n",
    "sns.heatmap(cm, annot=True, cmap = 'viridis')"
   ]
  },
  {
   "cell_type": "code",
   "execution_count": null,
   "id": "ec680ba9",
   "metadata": {},
   "outputs": [],
   "source": [
    "#box plot\n",
    "l = df.columns.values\n",
    "number_of_columns=12\n",
    "number_of_rows = len(l)-1/number_of_columns\n",
    "plt.figure(figsize=(number_of_columns,5*number_of_rows))\n",
    "for i in range(0,len(l)):\n",
    "    plt.subplot(number_of_rows + 1,number_of_columns,i+1)\n",
    "    sns.set_style('whitegrid')\n",
    "    sns.boxplot(df[l[i]],color='green',orient='v')\n",
    "    plt.tight_layout()"
   ]
  },
  {
   "cell_type": "markdown",
   "id": "4e4e457b",
   "metadata": {},
   "source": [
    "Some summary statistics "
   ]
  },
  {
   "cell_type": "markdown",
   "id": "afba573c",
   "metadata": {},
   "source": [
    "# 5. Model Fitting <a id='fit'></a>"
   ]
  },
  {
   "cell_type": "markdown",
   "id": "dc57854f",
   "metadata": {},
   "source": [
    "Linear Regression"
   ]
  },
  {
   "cell_type": "code",
   "execution_count": null,
   "id": "6ec9f89a",
   "metadata": {},
   "outputs": [],
   "source": [
    "labels = np.array(wine['quality'])\n",
    "subset = wine[['volatile acidity', 'chlorides', 'total sulfur dioxide', 'pH', 'sulphates', 'alcohol']]\n",
    "x_train, x_test, y_train, y_test = train_test_split(subset, labels, test_size = 0.25)\n",
    "x_train.shape, x_test.shape, y_train.shape, y_test.shape"
   ]
  },
  {
   "cell_type": "code",
   "execution_count": null,
   "id": "444e093c",
   "metadata": {},
   "outputs": [],
   "source": [
    "#add constant to predictor variables\n",
    "x_train = sm.add_constant(x_train)\n",
    "x_test = sm.add_constant(x_test)\n",
    "\n",
    "#fit linear regression model\n",
    "SM_model_fit = sm.OLS(y_train, x_train).fit()\n",
    "\n",
    "#view model summary\n",
    "print(SM_model_fit.summary())"
   ]
  },
  {
   "cell_type": "code",
   "execution_count": null,
   "id": "2fc89c5e",
   "metadata": {},
   "outputs": [],
   "source": [
    "predicted = SM_model_fit.predict(x_test)"
   ]
  },
  {
   "cell_type": "markdown",
   "id": "6b853e4d",
   "metadata": {},
   "source": [
    "# 6. Interpret Results <a id='interpret'></a>"
   ]
  }
 ],
 "metadata": {
  "kernelspec": {
   "display_name": "Python 3 (ipykernel)",
   "language": "python",
   "name": "python3"
  },
  "language_info": {
   "codemirror_mode": {
    "name": "ipython",
    "version": 3
   },
   "file_extension": ".py",
   "mimetype": "text/x-python",
   "name": "python",
   "nbconvert_exporter": "python",
   "pygments_lexer": "ipython3",
   "version": "3.10.9"
  }
 },
 "nbformat": 4,
 "nbformat_minor": 5
}
