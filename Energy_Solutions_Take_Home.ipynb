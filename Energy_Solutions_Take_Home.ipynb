{
 "cells": [
  {
   "cell_type": "code",
   "execution_count": 2,
   "id": "6e2fdb6e",
   "metadata": {},
   "outputs": [],
   "source": [
    "# Everything you might want to import... Remove what you don't use! \n",
    "# import calendar\n",
    "# import datetime as dt \n",
    "# from dotenv import dotenv_values \n",
    "# import json\n",
    "import matplotlib.pyplot as plt\n",
    "%matplotlib inline\n",
    "import seaborn as sns\n",
    "import numpy as np \n",
    "# import os \n",
    "import pandas as pd\n",
    "# import requests\n",
    "# from simpletsmodel import *\n",
    "# from sklearn.linear_model import LinearRegression\n",
    "# from sklearn.preprocessing import PolynomialFeatures\n",
    "# from statsmodels.tsa.seasonal import seasonal_decompose\n",
    "# import statsmodels.api as sm\n",
    "# import statsmodels.formula.api as smf\n",
    "# from utils import *\n",
    "from sklearn.model_selection import train_test_split\n",
    "from sklearn import linear_model\n",
    "from sklearn.linear_model import LogisticRegression\n",
    "from sklearn.ensemble import RandomForestClassifier\n",
    "from sklearn.model_selection import train_test_split\n",
    "from sklearn.preprocessing import scale\n",
    "from sklearn.preprocessing import StandardScaler\n",
    "from sklearn.decomposition import PCA\n",
    "from sklearn.metrics import confusion_matrix, accuracy_score"
   ]
  },
  {
   "cell_type": "markdown",
   "id": "871f5688",
   "metadata": {},
   "source": [
    "A good [resource](https://towardsdatascience.com/how-to-crush-your-data-take-home-interview-a0b9f7c97d6). \n",
    "\n",
    "When you're done, create a brief presentation: \n",
    "- Introduce problem\n",
    "- Overview of process \n",
    "- Highlight key results \n",
    "- Recommendations / Conclusions / Future Work "
   ]
  },
  {
   "cell_type": "markdown",
   "id": "876a5ac2",
   "metadata": {},
   "source": [
    "# Data Analysis Skeleton (TITLE)\n",
    "\n",
    "This project is broken into 6 steps: \n",
    "1. [Problem Definition](#problem_definition)\n",
    "2. [Gathering Data / Information](#get_data)\n",
    "3. [Data Cleaning / Imputation](#clean)\n",
    "4. [Exploratory Analysis](#explore)\n",
    "5. [Model Fitting](#fit)\n",
    "6. [Interpret Results](#interpret)"
   ]
  },
  {
   "cell_type": "markdown",
   "id": "0a080a5c",
   "metadata": {},
   "source": [
    "# 1. Problem definition <a id='problem_definition'></a>"
   ]
  },
  {
   "attachments": {},
   "cell_type": "markdown",
   "id": "9e9f7cd4",
   "metadata": {},
   "source": [
    "1. Identify if it is common for commercial buildings to be larger than 5000 sqft. \n",
    "    - Calculate the average size (mean sqft per building) of full population of **commercial** buildings in Illinois. \n",
    "\n",
    "Question: Would you use this metric of the mean building size to answer their question of whether it’s  common for commercial buildings to be larger than 5000 square feet? Please explain why or why  not and provide visuals if you think visuals would help explain this to a non-technical audience. \n",
    "\n",
    "NOTE: \n",
    "- **Illinois** based client\n",
    "    - According to [US Census Region Map](https://www2.census.gov/geo/pdfs/maps-data/maps/reference/us_regdiv.pdf): \n",
    "        - Illinios is in the Midwest Region (**Region 2**). \n",
    "        - Illinois is in the East North Central\tDivision (**Division 3**)\n",
    "- Interested in **commercial buildings**\n",
    "    - **PBA (Principal building activity) = Office = 2**\n",
    "- Interested in energy usage data (**consumption and expenditures**)\n"
   ]
  },
  {
   "cell_type": "markdown",
   "id": "39c232c6",
   "metadata": {},
   "source": [
    "# 2. Gathering Data / Information <a id='get_data'></a>"
   ]
  },
  {
   "cell_type": "code",
   "execution_count": 109,
   "id": "5becd395",
   "metadata": {
    "scrolled": true
   },
   "outputs": [],
   "source": [
    "df = pd.read_csv('data/2012_public_use_data_aug2016.csv', sep=\",\")"
   ]
  },
  {
   "cell_type": "code",
   "execution_count": 110,
   "id": "920fb759",
   "metadata": {},
   "outputs": [],
   "source": [
    "commercial = df[['PUBID','REGION', 'CENDIV', 'PBA', 'SQFT', 'SQFTC', 'YRCON', 'HTPMPH']].copy()             "
   ]
  },
  {
   "cell_type": "code",
   "execution_count": 111,
   "id": "fa4ea210",
   "metadata": {},
   "outputs": [],
   "source": [
    "ENC = commercial[commercial['CENDIV'] == 3].copy()"
   ]
  },
  {
   "cell_type": "code",
   "execution_count": 112,
   "id": "613967ca",
   "metadata": {},
   "outputs": [
    {
     "data": {
      "text/html": [
       "<div>\n",
       "<style scoped>\n",
       "    .dataframe tbody tr th:only-of-type {\n",
       "        vertical-align: middle;\n",
       "    }\n",
       "\n",
       "    .dataframe tbody tr th {\n",
       "        vertical-align: top;\n",
       "    }\n",
       "\n",
       "    .dataframe thead th {\n",
       "        text-align: right;\n",
       "    }\n",
       "</style>\n",
       "<table border=\"1\" class=\"dataframe\">\n",
       "  <thead>\n",
       "    <tr style=\"text-align: right;\">\n",
       "      <th></th>\n",
       "      <th>PUBID</th>\n",
       "      <th>REGION</th>\n",
       "      <th>CENDIV</th>\n",
       "      <th>PBA</th>\n",
       "      <th>SQFT</th>\n",
       "      <th>SQFTC</th>\n",
       "      <th>YRCON</th>\n",
       "      <th>HTPMPH</th>\n",
       "    </tr>\n",
       "  </thead>\n",
       "  <tbody>\n",
       "    <tr>\n",
       "      <th>0</th>\n",
       "      <td>1</td>\n",
       "      <td>2</td>\n",
       "      <td>4</td>\n",
       "      <td>26</td>\n",
       "      <td>2400</td>\n",
       "      <td>2</td>\n",
       "      <td>1975</td>\n",
       "      <td>2.0</td>\n",
       "    </tr>\n",
       "    <tr>\n",
       "      <th>1</th>\n",
       "      <td>2</td>\n",
       "      <td>3</td>\n",
       "      <td>5</td>\n",
       "      <td>23</td>\n",
       "      <td>114000</td>\n",
       "      <td>7</td>\n",
       "      <td>1985</td>\n",
       "      <td>2.0</td>\n",
       "    </tr>\n",
       "  </tbody>\n",
       "</table>\n",
       "</div>"
      ],
      "text/plain": [
       "   PUBID  REGION  CENDIV  PBA    SQFT  SQFTC  YRCON  HTPMPH\n",
       "0      1       2       4   26    2400      2   1975     2.0\n",
       "1      2       3       5   23  114000      7   1985     2.0"
      ]
     },
     "execution_count": 112,
     "metadata": {},
     "output_type": "execute_result"
    }
   ],
   "source": [
    "commercial.head(2)"
   ]
  },
  {
   "attachments": {},
   "cell_type": "markdown",
   "id": "f8e981e8",
   "metadata": {},
   "source": [
    "Clarifying values: \n",
    "\n",
    "HTPMPH (Heat pumps for heating): \n",
    "- \"'1' = 'Yes'\n",
    "- '2' = 'No'\n",
    "- Missing = Not applicable\n"
   ]
  },
  {
   "cell_type": "code",
   "execution_count": 113,
   "id": "92865610",
   "metadata": {},
   "outputs": [
    {
     "data": {
      "text/plain": [
       "(6720, 8)"
      ]
     },
     "execution_count": 113,
     "metadata": {},
     "output_type": "execute_result"
    }
   ],
   "source": [
    "commercial.shape"
   ]
  },
  {
   "cell_type": "code",
   "execution_count": 114,
   "id": "4212cf07",
   "metadata": {},
   "outputs": [
    {
     "data": {
      "text/plain": [
       "(900, 8)"
      ]
     },
     "execution_count": 114,
     "metadata": {},
     "output_type": "execute_result"
    }
   ],
   "source": [
    "ENC.shape"
   ]
  },
  {
   "cell_type": "markdown",
   "id": "d38690d7",
   "metadata": {},
   "source": [
    "**There is information on 6720 commercial buildings.**\n",
    "\n",
    "**900 of the buildings are in the East North Central region.**"
   ]
  },
  {
   "cell_type": "markdown",
   "id": "c3724612",
   "metadata": {},
   "source": [
    "### Calculate the average size (mean sqft per building) of full population of commercial buildings in Illinois."
   ]
  },
  {
   "cell_type": "code",
   "execution_count": 115,
   "id": "7873d090",
   "metadata": {},
   "outputs": [
    {
     "data": {
      "text/plain": [
       "146902"
      ]
     },
     "execution_count": 115,
     "metadata": {},
     "output_type": "execute_result"
    }
   ],
   "source": [
    "round(ENC['SQFT'].mean())"
   ]
  },
  {
   "cell_type": "markdown",
   "id": "606b2565",
   "metadata": {},
   "source": [
    "The mean size of commercial buildings in the East North Central\tDivision is 14,6902 sqft. \n",
    "\n",
    "This is **not** a good metric to determine if it is common for commercial buildings to be >5,000 sqft.  "
   ]
  },
  {
   "cell_type": "markdown",
   "id": "b4a7d145",
   "metadata": {},
   "source": [
    "The mean value can be driven by outliers. \n",
    "\n",
    "For example, on the histogram below, the mean line is the solid vertical dotted line. \n",
    "\n",
    "While most of the data is in the first bin (indicating that the square footage of most buildings is between 1-70,000 SQFT), the mean is significantly higher.  "
   ]
  },
  {
   "cell_type": "code",
   "execution_count": 117,
   "id": "b417290d",
   "metadata": {
    "scrolled": true
   },
   "outputs": [
    {
     "data": {
      "image/png": "[encoded data removed]",
      "text/plain": [
       "<Figure size 800x300 with 1 Axes>"
      ]
     },
     "metadata": {},
     "output_type": "display_data"
    }
   ],
   "source": [
    "fig, axis = plt.subplots(figsize=(8,3))\n",
    "ENC['SQFT'].hist(ax=axis, bins=20)\n",
    "plt.xlabel(\"SQFT in Millions\")\n",
    "plt.ylabel(\"Count\")\n",
    "plt.title('Distribution of SQFT of Commercial Buildings in ENC')\n",
    "\n",
    "plt.axvline(ENC['SQFT'].mean(), color='k', linestyle='dashed', linewidth=1, label='mean')\n",
    "\n",
    "plt.legend()\n",
    "\n",
    "plt.show()"
   ]
  },
  {
   "cell_type": "markdown",
   "id": "be7952cf",
   "metadata": {},
   "source": [
    "____\n",
    "## Alternative Method : Calculate Percentage of Commercial Buildings > 5,000 SQFT"
   ]
  },
  {
   "cell_type": "code",
   "execution_count": 118,
   "id": "5a1b5de8",
   "metadata": {
    "scrolled": true
   },
   "outputs": [
    {
     "name": "stdout",
     "output_type": "stream",
     "text": [
      "76.0% of buildings are over 5000SQFT\n"
     ]
    }
   ],
   "source": [
    "print(f\"{round(len(ENC[ENC['SQFT'] > 5000])/ENC.shape[0], 2)*100}% of buildings are over 5000SQFT\")"
   ]
  },
  {
   "cell_type": "code",
   "execution_count": 128,
   "id": "469e8313",
   "metadata": {},
   "outputs": [
    {
     "data": {
      "text/plain": [
       "<AxesSubplot:xlabel='over_5000', ylabel='count'>"
      ]
     },
     "execution_count": 128,
     "metadata": {},
     "output_type": "execute_result"
    },
    {
     "data": {
      "image/png": "[encoded data removed]",
      "text/plain": [
       "<Figure size 300x300 with 1 Axes>"
      ]
     },
     "metadata": {},
     "output_type": "display_data"
    }
   ],
   "source": [
    "# Add a categorical column indicating buildings over and under 5,000 SQFT. \n",
    "ENC['over_5000'] = np.where(ENC['SQFT'] > 5000, 'Over 5000', 'Under 5000')\n",
    "fig, ax = plt.subplots(figsize=(3,3))\n",
    "sns.countplot(x='over_5000', data=ENC)"
   ]
  }
 ],
 "metadata": {
  "kernelspec": {
   "display_name": "Python 3 (ipykernel)",
   "language": "python",
   "name": "python3"
  },
  "language_info": {
   "codemirror_mode": {
    "name": "ipython",
    "version": 3
   },
   "file_extension": ".py",
   "mimetype": "text/x-python",
   "name": "python",
   "nbconvert_exporter": "python",
   "pygments_lexer": "ipython3",
   "version": "3.9.13"
  }
 },
 "nbformat": 4,
 "nbformat_minor": 5
}
